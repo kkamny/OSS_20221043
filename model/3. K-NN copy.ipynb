{
 "cells": [
  {
   "cell_type": "code",
   "execution_count": 10,
   "id": "79aac7e6",
   "metadata": {},
   "outputs": [],
   "source": [
    "import pandas as pd\n",
    "import numpy as np\n",
    "from sklearn.model_selection import train_test_split\n",
    "from sklearn.neighbors import KNeighborsClassifier\n",
    "from sklearn.metrics import average_precision_score"
   ]
  },
  {
   "cell_type": "code",
   "execution_count": null,
   "id": "adfd3d1a",
   "metadata": {},
   "outputs": [],
   "source": [
    "# split 하기\n",
    "X_train, X_test, y_train, y_test = train_test_split(X,y,test_size=0.2)\n",
    "# split 하기2\n",
    "X_train,X_temp,y_train,y_temp=train_test_split(X,y,train_size=0.6)\n",
    "X_val,X_test,y_val,y_test=train_test_split(X_temp,y_temp,test_size=0.5)"
   ]
  },
  {
   "cell_type": "code",
   "execution_count": null,
   "id": "a22e955d",
   "metadata": {},
   "outputs": [],
   "source": [
    "#KNN\n",
    "model=KNeighborsClassifier(n_neighbors=7) ()안은 빌수도 있음\n",
    "model.fit(X_train,y_train)\n",
    "y_pred=model.predict(X_test)\n",
    "\n",
    "##KNN확률반환\n",
    "y_prob=model.predict_proba(X_test)[:,1]\n",
    "#model.predict_proba(X_test)[:,1]는 모델이 예측한 각 샘플에 대해 두 번째 클래스(양성 클래스)에 속할 확률을 추출하는 것"
   ]
  }
 ],
 "metadata": {
  "kernelspec": {
   "display_name": "Python 3 (ipykernel)",
   "language": "python",
   "name": "python3"
  },
  "language_info": {
   "codemirror_mode": {
    "name": "ipython",
    "version": 3
   },
   "file_extension": ".py",
   "mimetype": "text/x-python",
   "name": "python",
   "nbconvert_exporter": "python",
   "pygments_lexer": "ipython3",
   "version": "3.9.7"
  }
 },
 "nbformat": 4,
 "nbformat_minor": 5
}
