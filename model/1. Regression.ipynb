{
 "cells": [
  {
   "cell_type": "code",
   "execution_count": 10,
   "id": "79aac7e6",
   "metadata": {},
   "outputs": [],
   "source": [
    "import pandas as pd\n",
    "import numpy as np\n",
    "from sklearn.linear_model import LinearRegression,Ridge,Lasso\n",
    "from sklearn.model_selection import train_test_split\n",
    "from sklearn.metrics import mean_squared_error,mean_absolute_percentage_error,r2_score\n",
    "from sklearn.metrics import accuracy_score,precision_score"
   ]
  },
  {
   "cell_type": "code",
   "execution_count": null,
   "id": "adfd3d1a",
   "metadata": {},
   "outputs": [],
   "source": [
    "# split 하기\n",
    "X_train, X_test, y_train, y_test = train_test_split(X,y,test_size=0.2)\n",
    "# split 하기2\n",
    "X_train,X_temp,y_train,y_temp=train_test_split(X,y,train_size=0.6)\n",
    "X_val,X_test,y_val,y_test=train_test_split(X_temp,y_temp,test_size=0.5)"
   ]
  },
  {
   "cell_type": "code",
   "execution_count": null,
   "id": "2a4d01a7",
   "metadata": {},
   "outputs": [],
   "source": [
    "#linearregression\n",
    "model= LinearRegression(fit_intercept=True)\n",
    "model.fit(X_train,y_train)\n",
    "y_pred = model.predict(X_test)"
   ]
  },
  {
   "cell_type": "code",
   "execution_count": null,
   "id": "f3bd8ab0",
   "metadata": {},
   "outputs": [],
   "source": [
    "# ridge모델\n",
    "ridge_model = Ridge(alpha=2)\n",
    "ridge_model.fit(train_X,train_y)\n",
    "\n",
    "#lasso모델\n",
    "lasso_model = Lasso(alpha=2)\n",
    "lasso_model.fit(train_X,train_y)\n",
    "\n",
    "# evaluation\n",
    "pred = ridge_model.predict(valid_X)\n",
    "ridge_mape = mean_absolute_percentage_error(valid_y,pred)\n",
    "\n",
    "pred = lasso_model.predict(valid_X)\n",
    "lasso_mape = mean_absolute_percentage_error(valid_y,pred)\n"
   ]
  },
  {
   "cell_type": "code",
   "execution_count": null,
   "id": "c394dcfc",
   "metadata": {},
   "outputs": [],
   "source": [
    "# make result table\n",
    "comparison = pd.DataFrame({'actual': y_test, 'pred':`y_pred})"
   ]
  },
  {
   "cell_type": "code",
   "execution_count": null,
   "id": "65e8f3ee",
   "metadata": {},
   "outputs": [],
   "source": [
    "#평가 항목\n",
    "mse=mean_squared_error(y_test,y_pred)\n",
    "rmse=mean_squared_error(y_test,y_pred)\n",
    "mape=mean_absolute_percentage_error(y_test,y_pred)\n",
    "R2= r2_score(y_test,y_pred)"
   ]
  },
  {
   "cell_type": "code",
   "execution_count": null,
   "id": "df46d242",
   "metadata": {},
   "outputs": [],
   "source": [
    "model.coef_\n",
    "pd.Series(model.coef_, index = X.columns)\n",
    "model.intercept_"
   ]
  }
 ],
 "metadata": {
  "kernelspec": {
   "display_name": "Python 3 (ipykernel)",
   "language": "python",
   "name": "python3"
  },
  "language_info": {
   "codemirror_mode": {
    "name": "ipython",
    "version": 3
   },
   "file_extension": ".py",
   "mimetype": "text/x-python",
   "name": "python",
   "nbconvert_exporter": "python",
   "pygments_lexer": "ipython3",
   "version": "3.9.7"
  }
 },
 "nbformat": 4,
 "nbformat_minor": 5
}
