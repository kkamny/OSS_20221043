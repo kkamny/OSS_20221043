{
 "cells": [
  {
   "cell_type": "code",
   "execution_count": 10,
   "id": "79aac7e6",
   "metadata": {},
   "outputs": [],
   "source": [
    "import pandas as pd\n",
    "import numpy as np\n",
    "from sklearn.model_selection import train_test_split\n",
    "from sklearn.cluster import KMeans\n",
    "from sklearn.preprocessing import StandardScaler\n",
    "from sklearn.pipeline import make_pipeline\n",
    "from sklearn.metrics import silhouette_score"
   ]
  },
  {
   "cell_type": "code",
   "execution_count": null,
   "id": "adfd3d1a",
   "metadata": {},
   "outputs": [],
   "source": [
    "# split 하기\n",
    "X_train, X_test, y_train, y_test = train_test_split(X,y,test_size=0.2)\n",
    "# split 하기2\n",
    "X_train,X_temp,y_train,y_temp=train_test_split(X,y,train_size=0.6)\n",
    "X_val,X_test,y_val,y_test=train_test_split(X_temp,y_temp,test_size=0.5)"
   ]
  },
  {
   "cell_type": "code",
   "execution_count": null,
   "id": "5dfcf8a9",
   "metadata": {},
   "outputs": [],
   "source": [
    "#Print feature values of 1-neighbor of first sample of test set (i.e. X_test[0])\n",
    "sample=X_test[:1]\n",
    "neigh_dist,neigh_ind= model.kneighbors(sample,n_neighbors=1\n",
    "                                    \n",
    "plt.plot(sample[0])\n",
    "plt.plot(X_train[324]))"
   ]
  },
  {
   "cell_type": "code",
   "execution_count": null,
   "id": "05c9eb82",
   "metadata": {},
   "outputs": [],
   "source": [
    "#K-Means\n",
    "scaler=StandardScaler()\n",
    "scaler.fit(X_train)\n",
    "X_train_scaled=scaler.transform(X_train)\n",
    "\n",
    "distance=[]\n",
    "\n",
    "for k in range(2,10):\n",
    "    model=KMeans(n_clusters=k)\n",
    "    model.fit(X_train_scaled)\n",
    "    labels=model.predict(X_train_scaled)#model.labels_\n",
    "    s=silhouette_score(X_train_scaled,labels) #inertia=model.inertia_\n",
    "    distance.append(s)#distance.append(inertia)"
   ]
  },
  {
   "cell_type": "code",
   "execution_count": null,
   "id": "c7132815",
   "metadata": {},
   "outputs": [],
   "source": [
    "#K-Means\n",
    "scaler=StandardScaler()\n",
    "scaler.fit(X_train)\n",
    "X_train_scaler=scaler.transform(X_train)\n",
    "\n",
    "model=KMeans(n_clusters=k)\n",
    "model.fit(X_train_scaled)"
   ]
  }
 ],
 "metadata": {
  "kernelspec": {
   "display_name": "Python 3 (ipykernel)",
   "language": "python",
   "name": "python3"
  },
  "language_info": {
   "codemirror_mode": {
    "name": "ipython",
    "version": 3
   },
   "file_extension": ".py",
   "mimetype": "text/x-python",
   "name": "python",
   "nbconvert_exporter": "python",
   "pygments_lexer": "ipython3",
   "version": "3.9.7"
  }
 },
 "nbformat": 4,
 "nbformat_minor": 5
}
