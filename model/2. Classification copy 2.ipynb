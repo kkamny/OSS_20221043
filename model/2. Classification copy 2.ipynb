{
 "cells": [
  {
   "cell_type": "code",
   "execution_count": 10,
   "id": "79aac7e6",
   "metadata": {},
   "outputs": [],
   "source": [
    "import pandas as pd\n",
    "import numpy as np\n",
    "from sklearn.linear_model import LogisticRegression\n",
    "from sklearn.model_selection import train_test_split\n",
    "from sklearn.metrics import confusion_matrix,classification_report\n",
    "from sklearn.metrics import accuracy_score,precision_score\n",
    "from sklearn.metrics import recall_score,f1_score,ConfusionMatrixDisplay\n",
    "from sklearn.metrics import average_precision_score\n",
    "from sklearn.metrics import roc_auc_score,RocCurveDisplay,PrecisionRecallDisplay"
   ]
  },
  {
   "cell_type": "code",
   "execution_count": null,
   "id": "adfd3d1a",
   "metadata": {},
   "outputs": [],
   "source": [
    "# split 하기\n",
    "X_train, X_test, y_train, y_test = train_test_split(X,y,test_size=0.2)\n",
    "# split 하기2\n",
    "X_train,X_temp,y_train,y_temp=train_test_split(X,y,train_size=0.6)\n",
    "X_val,X_test,y_val,y_test=train_test_split(X_temp,y_temp,test_size=0.5)"
   ]
  },
  {
   "cell_type": "code",
   "execution_count": null,
   "id": "4af3f78f",
   "metadata": {},
   "outputs": [],
   "source": [
    "#원핫인코딩\n",
    "data = pd.get_dummies(data, columns=['열이름'], drop_first=True)"
   ]
  },
  {
   "cell_type": "code",
   "execution_count": null,
   "id": "c394dcfc",
   "metadata": {},
   "outputs": [],
   "source": [
    "# make result table\n",
    "comparison = pd.DataFrame({'actual': y_test, 'pred':`y_pred})"
   ]
  },
  {
   "cell_type": "code",
   "execution_count": null,
   "id": "46caab00",
   "metadata": {},
   "outputs": [],
   "source": [
    "#logisticregression\n",
    "model = LogisticRegression()\n",
    "model.fit(X_train,y_train)\n",
    "pred = model.predict(X_test)"
   ]
  },
  {
   "cell_type": "code",
   "execution_count": null,
   "id": "c7c56e38",
   "metadata": {},
   "outputs": [],
   "source": [
    "#matrix(분류결과표)\n",
    "confusion_matrix(y_test,pred)\n",
    "\n",
    "#분류결과표 시각화\n",
    "display = ConfusionMatrixDisplay(confusion_matrix(y_test,pred))\n",
    "display.plot()\n",
    "\n",
    "#print report including precision, recall, f1-score\n",
    "classification_report(y_test,pred)\n",
    "print(classification_report(y_test,pred))"
   ]
  },
  {
   "cell_type": "code",
   "execution_count": 6,
   "id": "856f5a76",
   "metadata": {},
   "outputs": [
    {
     "ename": "NameError",
     "evalue": "name 'accuracy_score' is not defined",
     "output_type": "error",
     "traceback": [
      "\u001b[1;31m---------------------------------------------------------------------------\u001b[0m",
      "\u001b[1;31mNameError\u001b[0m                                 Traceback (most recent call last)",
      "\u001b[1;32mC:\\Users\\PORCUP~1\\AppData\\Local\\Temp/ipykernel_17880/2189666132.py\u001b[0m in \u001b[0;36m<module>\u001b[1;34m\u001b[0m\n\u001b[1;32m----> 1\u001b[1;33m \u001b[0maccuracy\u001b[0m \u001b[1;33m=\u001b[0m\u001b[0maccuracy_score\u001b[0m\u001b[1;33m(\u001b[0m\u001b[0my_test\u001b[0m\u001b[1;33m,\u001b[0m\u001b[0mpred\u001b[0m\u001b[1;33m)\u001b[0m\u001b[1;33m\u001b[0m\u001b[1;33m\u001b[0m\u001b[0m\n\u001b[0m\u001b[0;32m      2\u001b[0m \u001b[0mprecision\u001b[0m \u001b[1;33m=\u001b[0m \u001b[0mprecision_score\u001b[0m\u001b[1;33m(\u001b[0m\u001b[0my_test\u001b[0m\u001b[1;33m,\u001b[0m \u001b[0mpred\u001b[0m\u001b[1;33m,\u001b[0m \u001b[0maverage\u001b[0m\u001b[1;33m=\u001b[0m\u001b[1;34m'macro'\u001b[0m\u001b[1;33m)\u001b[0m\u001b[1;33m\u001b[0m\u001b[1;33m\u001b[0m\u001b[0m\n\u001b[0;32m      3\u001b[0m \u001b[0mrecall\u001b[0m \u001b[1;33m=\u001b[0m  \u001b[0mprecision_score\u001b[0m\u001b[1;33m(\u001b[0m\u001b[0my_test\u001b[0m\u001b[1;33m,\u001b[0m \u001b[0mpred\u001b[0m\u001b[1;33m,\u001b[0m \u001b[0maverage\u001b[0m\u001b[1;33m=\u001b[0m\u001b[1;34m'macro'\u001b[0m\u001b[1;33m)\u001b[0m\u001b[1;33m\u001b[0m\u001b[1;33m\u001b[0m\u001b[0m\n\u001b[0;32m      4\u001b[0m \u001b[0mf1\u001b[0m \u001b[1;33m=\u001b[0m \u001b[0mf1_score\u001b[0m\u001b[1;33m(\u001b[0m\u001b[0my_test\u001b[0m\u001b[1;33m,\u001b[0m\u001b[0mpred\u001b[0m\u001b[1;33m,\u001b[0m \u001b[0maverage\u001b[0m\u001b[1;33m=\u001b[0m\u001b[1;34m'macro'\u001b[0m\u001b[1;33m)\u001b[0m\u001b[1;33m\u001b[0m\u001b[1;33m\u001b[0m\u001b[0m\n",
      "\u001b[1;31mNameError\u001b[0m: name 'accuracy_score' is not defined"
     ]
    }
   ],
   "source": [
    "accuracy =accuracy_score(y_test,pred)\n",
    "precision = precision_score(y_test, pred, average='macro')\n",
    "recall =  precision_score(y_test, pred, average='macro')\n",
    "f1 = f1_score(y_test,pred, average='macro')"
   ]
  },
  {
   "cell_type": "code",
   "execution_count": null,
   "id": "a33e5b5b",
   "metadata": {},
   "outputs": [],
   "source": [
    "#Print probability of predicted class for each test sample\n",
    "prob=model.predict_proba(X_test)\n",
    "print(prob.max(axis=1))\n",
    "#로짓반환\n",
    "dicision_function(X_test)\n",
    "\n",
    "#Print average precision\n",
    "average_precision_score(y_test,y_proba[:,숫자])"
   ]
  },
  {
   "cell_type": "code",
   "execution_count": null,
   "id": "afb8286c",
   "metadata": {},
   "outputs": [],
   "source": [
    "# \"prob[y_test != pred]\"는 \"y_test\"와 \"pred\" 간의 예측이 틀린 경우에 해당하는 \"prob\" 배열의 요소를 선택하는 것을 나타냅니다. \n",
    "#이것은 모델이 틀린 예측에 대한 확률 또는 예측의 확률값을 찾을 때 사용할 수 있습니다.\n",
    "prob[y_test !=pred]"
   ]
  },
  {
   "cell_type": "code",
   "execution_count": null,
   "id": "80a501f6",
   "metadata": {},
   "outputs": [],
   "source": [
    "#lorm2합\n",
    "a=model.coef_\n",
    "l2_norm = np.linalg.norm(a[:3])"
   ]
  },
  {
   "cell_type": "code",
   "execution_count": 8,
   "id": "a7c5a287",
   "metadata": {},
   "outputs": [],
   "source": [
    "#Print AUC-ROC\n",
    "auc_roc = roc_auc_score(y_test,y_prob)\n",
    "#Visualize ROC curve\n",
    "RocCurveDisplay.from_predictions(y_test,y_prob)\n",
    "#Visualize PR curve\n",
    "PrecisionRecallDisplay.from_predictions(y_test,y_prob)"
   ]
  }
 ],
 "metadata": {
  "kernelspec": {
   "display_name": "Python 3 (ipykernel)",
   "language": "python",
   "name": "python3"
  },
  "language_info": {
   "codemirror_mode": {
    "name": "ipython",
    "version": 3
   },
   "file_extension": ".py",
   "mimetype": "text/x-python",
   "name": "python",
   "nbconvert_exporter": "python",
   "pygments_lexer": "ipython3",
   "version": "3.9.7"
  }
 },
 "nbformat": 4,
 "nbformat_minor": 5
}
