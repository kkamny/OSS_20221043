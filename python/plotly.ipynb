{
 "cells": [
  {
   "cell_type": "code",
   "execution_count": 10,
   "id": "79aac7e6",
   "metadata": {},
   "outputs": [],
   "source": [
    "import pandas as pd\n",
    "import matplotlib.pyplot as plt\n",
    "import numpy as np\n",
    "import plotly.express as px\n",
    "import plotly.graph_objects as go"
   ]
  },
  {
   "cell_type": "code",
   "execution_count": 4,
   "id": "5a8d5126",
   "metadata": {},
   "outputs": [],
   "source": [
    "##산점도 그래프\n",
    "data.plot.scatter('열이름1','열이름2')\n",
    "##분산 산점도\n",
    "fig = px.scatter(data, x=\"열이름\", y=\"열이름\", color=wine.target)\n",
    "fig.update_layout(\n",
    "    width=800,\n",
    "    height=600\n",
    ")\n",
    "fig.show()\n",
    "\n",
    "\n",
    "##히스토스램\n",
    "plt.hist(데이터이름)\n",
    "plt.title(\"표 이름\")\n",
    "plt.show()\n",
    "#막대그래프\n",
    "plt.bar(x축 데이터,y축 데이터)\n",
    "plt.xlabel(\"x축 이름\")\n",
    "plt.ylabel(\"y축이름\")\n",
    "plt.title(\"전체이름\")\n",
    "plt.show()"
   ]
  },
  {
   "cell_type": "code",
   "execution_count": null,
   "id": "c0245dd3",
   "metadata": {},
   "outputs": [],
   "source": [
    "#subplots\n",
    "fig, axes = plt.subplots(2, 3, figsize=(15, 10))\n",
    "\n",
    "data.plot.scatter('열이름1', '열이름2', ax=axes[0, 0])\n",
    "axes[0, 0].set_title('제목')\n",
    "\n",
    "data.plot.scatter('열이름1', '열이름2', ax=axes[0, 1])\n",
    "axes[0, 1].set_title('제목')\n",
    "\n",
    "data.plot.scatter('열이름1', '열이름2', ax=axes[0, 2])\n",
    "axes[0, 2].set_title('제목')\n",
    "\n",
    "data.plot.scatter('열이름1', '열이름2', ax=axes[1, 0])\n",
    "axes[1, 0].set_title('제목')\n",
    "\n",
    "data.plot.scatter('열이름1', '열이름2', ax=axes[1, 1])\n",
    "axes[1, 1].set_title('제목')\n",
    "\n",
    "axes[1, 2].axis('off')\n",
    "\n",
    "plt.tight_layout()\n",
    "plt.show()"
   ]
  }
 ],
 "metadata": {
  "kernelspec": {
   "display_name": "Python 3 (ipykernel)",
   "language": "python",
   "name": "python3"
  },
  "language_info": {
   "codemirror_mode": {
    "name": "ipython",
    "version": 3
   },
   "file_extension": ".py",
   "mimetype": "text/x-python",
   "name": "python",
   "nbconvert_exporter": "python",
   "pygments_lexer": "ipython3",
   "version": "3.9.7"
  }
 },
 "nbformat": 4,
 "nbformat_minor": 5
}
