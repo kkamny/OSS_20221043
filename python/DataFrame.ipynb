{
 "cells": [
  {
   "cell_type": "code",
   "execution_count": 10,
   "id": "79aac7e6",
   "metadata": {},
   "outputs": [],
   "source": [
    "import pandas as pd\n",
    "import numpy as np"
   ]
  },
  {
   "cell_type": "code",
   "execution_count": 4,
   "id": "5a8d5126",
   "metadata": {},
   "outputs": [],
   "source": [
    "#data=data이름\n",
    "df.head()\n",
    "df.ndim #차원확인\n",
    "df.dtypes\n",
    "df.set_index('설정할 인덱스')\n",
    "df.drop(['열이름1','열이름2'],axis=1)\n",
    "df.drop(['행이름'],axis=0)\n",
    "df['추가할열이름']=''\n",
    "df.dropna()\n",
    "data.info() #결측 확인\n",
    "data.describe() # 통계정보 확인\n",
    "#열 삭제\n",
    "data =data.drop(['삭제열1', '삭제열2'], axis=1)\n",
    "data.drop(columns=['삭제열'])\n",
    "#반올림\n",
    "round(data.describe(), 2) \n",
    "#데이터 뽑아오기\n",
    "data= data.iloc[0:1000]\n",
    "data = data.iloc[:, :len(coefficients)]\n",
    "\n",
    "##특정 열 뽑아오기\n",
    "X = data[['열1', '열2', '열3']]\n",
    "y = data['열']\n",
    "\n",
    "# convert to data frame\n",
    "data = pd.DataFrame(data, columns=wine.feature_names)"
   ]
  }
 ],
 "metadata": {
  "kernelspec": {
   "display_name": "Python 3 (ipykernel)",
   "language": "python",
   "name": "python3"
  },
  "language_info": {
   "codemirror_mode": {
    "name": "ipython",
    "version": 3
   },
   "file_extension": ".py",
   "mimetype": "text/x-python",
   "name": "python",
   "nbconvert_exporter": "python",
   "pygments_lexer": "ipython3",
   "version": "3.9.7"
  }
 },
 "nbformat": 4,
 "nbformat_minor": 5
}
